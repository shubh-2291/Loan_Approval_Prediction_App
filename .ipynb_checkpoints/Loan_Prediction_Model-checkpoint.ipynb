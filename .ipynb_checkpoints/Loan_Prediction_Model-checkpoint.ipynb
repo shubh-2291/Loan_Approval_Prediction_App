{
 "cells": [
  {
   "cell_type": "markdown",
   "id": "5dcccd7a-ecb6-4fd1-b235-75b302ac0033",
   "metadata": {},
   "source": [
    "## Domain:\n",
    "- Finance and Banking.\n"
   ]
  },
  {
   "cell_type": "markdown",
   "id": "1ab1b988-8274-47c3-909a-c2a7841a2223",
   "metadata": {},
   "source": [
    "## Context:\n",
    "- Dream Housing Finance company deals in all home loans. They have presence across all urban, semi urban and rural areas. Customers first apply for a home loan after that company manually validates the customer eligibility for loan.Company wants to automate the loan eligibility process based on customer detail provided while filling the details online. They need a web application where a user can access their website and register, login, and enter the required details such as Gender, Marital Status,Education, Number of Dependents, Income, Loan Amount, Credit History and others for checking the eligibility for the home loan."
   ]
  },
  {
   "cell_type": "markdown",
   "id": "cb1179bd-2ff6-4cb1-9a3c-19d976e58f47",
   "metadata": {},
   "source": [
    "## Project Objective:\n",
    " 1) This is a standard supervised classification task. A classification problem\n",
    " where we have to predict whether a customer is eligible for loan or not based on\n",
    " a given set of independent variable(s).\n",
    " 2) To build a Python Flask ML application where a user has to get registered by\n",
    " entering the username and password and login to the website and then enter\n",
    " their details to check whether they are eligible for loan or not."
   ]
  },
  {
   "cell_type": "markdown",
   "id": "be3588bf-6838-4a71-a668-9b86a1662087",
   "metadata": {},
   "source": [
    "## Attribute Information:\n",
    "1. **Loan ID** -  Unique Loan ID\n",
    "2. **Gender** -  Male or Female\n",
    "3. **Married** -  Applicant married (Y/N)\n",
    "4. **Dependents** -  Number of dependents \n",
    "5. **Self employed** -  Self employed (Y/N)\n",
    "6. **Education** -  Graduate/Undergraduate\n",
    "7. **Applicant Income** - Applicant income (in dollars)\n",
    "8. **Co Applicant Income** - Co Applicant Income (in dollars)\n",
    "9. **Loan Amount** - Loan amount in thousands (in dollars)\n",
    "10. **Loan Amount Term** - Term of loan in months\n",
    "11. **Credit History** - Credit history meets guidelines Yes/No(1/0)\n",
    "12. **Property area** - Urban/Semi Urban/Rural\n",
    "13. **Loan Status (Target)** - Loan Approved (Y/N)"
   ]
  },
  {
   "cell_type": "markdown",
   "id": "7e2a0006-34c5-4613-a669-ef80d8801191",
   "metadata": {},
   "source": [
    "## ● Model Building and saving the model using Pickle"
   ]
  },
  {
   "cell_type": "markdown",
   "id": "3b8bd4b2-8c22-46c2-91c7-755cb458aaf9",
   "metadata": {},
   "source": [
    "### Import required libraries and read the dataset. (2)"
   ]
  },
  {
   "cell_type": "code",
   "execution_count": 7,
   "id": "098dafe3-37b4-4621-80f0-46022c310c44",
   "metadata": {},
   "outputs": [],
   "source": [
    "import warnings\n",
    "warnings.filterwarnings('ignore')\n",
    "\n",
    "%matplotlib inline"
   ]
  },
  {
   "cell_type": "code",
   "execution_count": 8,
   "id": "f9d8bd0e-9ccf-4e6a-a5c5-ae57c776f14c",
   "metadata": {},
   "outputs": [],
   "source": [
    "import numpy as np\n",
    "import pandas as pd\n",
    "import seaborn as sns\n",
    "import matplotlib.pyplot as plt\n",
    "\n",
    "from sklearn.preprocessing import LabelEncoder\n",
    "from sklearn.model_selection import train_test_split\n",
    "from sklearn.neighbors import KNeighborsClassifier\n",
    "from sklearn.tree import DecisionTreeClassifier\n",
    "from sklearn.ensemble import RandomForestClassifier, AdaBoostClassifier, BaggingClassifier, GradientBoostingClassifier\n",
    "\n",
    "from scipy.stats import zscore"
   ]
  },
  {
   "cell_type": "markdown",
   "id": "c872688b-8708-438c-a59e-a25f17bf867a",
   "metadata": {},
   "source": [
    "### Check the first few samples, shape, info of the data and try to familiarize yourself with different features. (2)"
   ]
  },
  {
   "cell_type": "code",
   "execution_count": 10,
   "id": "bec36945-19ed-46ce-842f-411c3377a109",
   "metadata": {},
   "outputs": [
    {
     "data": {
      "text/html": [
       "<div>\n",
       "<style scoped>\n",
       "    .dataframe tbody tr th:only-of-type {\n",
       "        vertical-align: middle;\n",
       "    }\n",
       "\n",
       "    .dataframe tbody tr th {\n",
       "        vertical-align: top;\n",
       "    }\n",
       "\n",
       "    .dataframe thead th {\n",
       "        text-align: right;\n",
       "    }\n",
       "</style>\n",
       "<table border=\"1\" class=\"dataframe\">\n",
       "  <thead>\n",
       "    <tr style=\"text-align: right;\">\n",
       "      <th></th>\n",
       "      <th>loan_id</th>\n",
       "      <th>gender</th>\n",
       "      <th>married</th>\n",
       "      <th>dependents</th>\n",
       "      <th>education</th>\n",
       "      <th>self_employed</th>\n",
       "      <th>applicantincome</th>\n",
       "      <th>coapplicantincome</th>\n",
       "      <th>loanamount</th>\n",
       "      <th>loan_amount_term</th>\n",
       "      <th>credit_history</th>\n",
       "      <th>property_area</th>\n",
       "      <th>loan_status</th>\n",
       "    </tr>\n",
       "  </thead>\n",
       "  <tbody>\n",
       "    <tr>\n",
       "      <th>0</th>\n",
       "      <td>lp001002</td>\n",
       "      <td>male</td>\n",
       "      <td>no</td>\n",
       "      <td>0.0</td>\n",
       "      <td>graduate</td>\n",
       "      <td>no</td>\n",
       "      <td>5849</td>\n",
       "      <td>0.0</td>\n",
       "      <td>NaN</td>\n",
       "      <td>360.0</td>\n",
       "      <td>1.0</td>\n",
       "      <td>urban</td>\n",
       "      <td>y</td>\n",
       "    </tr>\n",
       "    <tr>\n",
       "      <th>1</th>\n",
       "      <td>lp001003</td>\n",
       "      <td>male</td>\n",
       "      <td>yes</td>\n",
       "      <td>1.0</td>\n",
       "      <td>graduate</td>\n",
       "      <td>no</td>\n",
       "      <td>4583</td>\n",
       "      <td>1508.0</td>\n",
       "      <td>128.0</td>\n",
       "      <td>360.0</td>\n",
       "      <td>1.0</td>\n",
       "      <td>rural</td>\n",
       "      <td>n</td>\n",
       "    </tr>\n",
       "    <tr>\n",
       "      <th>2</th>\n",
       "      <td>lp001005</td>\n",
       "      <td>male</td>\n",
       "      <td>yes</td>\n",
       "      <td>0.0</td>\n",
       "      <td>graduate</td>\n",
       "      <td>yes</td>\n",
       "      <td>3000</td>\n",
       "      <td>0.0</td>\n",
       "      <td>66.0</td>\n",
       "      <td>360.0</td>\n",
       "      <td>1.0</td>\n",
       "      <td>urban</td>\n",
       "      <td>y</td>\n",
       "    </tr>\n",
       "    <tr>\n",
       "      <th>3</th>\n",
       "      <td>lp001006</td>\n",
       "      <td>male</td>\n",
       "      <td>yes</td>\n",
       "      <td>0.0</td>\n",
       "      <td>not graduate</td>\n",
       "      <td>no</td>\n",
       "      <td>2583</td>\n",
       "      <td>2358.0</td>\n",
       "      <td>120.0</td>\n",
       "      <td>360.0</td>\n",
       "      <td>1.0</td>\n",
       "      <td>urban</td>\n",
       "      <td>y</td>\n",
       "    </tr>\n",
       "    <tr>\n",
       "      <th>4</th>\n",
       "      <td>lp001008</td>\n",
       "      <td>male</td>\n",
       "      <td>no</td>\n",
       "      <td>0.0</td>\n",
       "      <td>graduate</td>\n",
       "      <td>no</td>\n",
       "      <td>6000</td>\n",
       "      <td>0.0</td>\n",
       "      <td>141.0</td>\n",
       "      <td>360.0</td>\n",
       "      <td>1.0</td>\n",
       "      <td>urban</td>\n",
       "      <td>y</td>\n",
       "    </tr>\n",
       "  </tbody>\n",
       "</table>\n",
       "</div>"
      ],
      "text/plain": [
       "    loan_id gender married  dependents     education self_employed  \\\n",
       "0  lp001002   male      no         0.0      graduate            no   \n",
       "1  lp001003   male     yes         1.0      graduate            no   \n",
       "2  lp001005   male     yes         0.0      graduate           yes   \n",
       "3  lp001006   male     yes         0.0  not graduate            no   \n",
       "4  lp001008   male      no         0.0      graduate            no   \n",
       "\n",
       "   applicantincome  coapplicantincome  loanamount  loan_amount_term  \\\n",
       "0             5849                0.0         NaN             360.0   \n",
       "1             4583             1508.0       128.0             360.0   \n",
       "2             3000                0.0        66.0             360.0   \n",
       "3             2583             2358.0       120.0             360.0   \n",
       "4             6000                0.0       141.0             360.0   \n",
       "\n",
       "   credit_history property_area loan_status  \n",
       "0             1.0         urban           y  \n",
       "1             1.0         rural           n  \n",
       "2             1.0         urban           y  \n",
       "3             1.0         urban           y  \n",
       "4             1.0         urban           y  "
      ]
     },
     "execution_count": 10,
     "metadata": {},
     "output_type": "execute_result"
    }
   ],
   "source": [
    "df = pd.read_csv('loan_approval_data.csv')\n",
    "df.head()"
   ]
  },
  {
   "cell_type": "code",
   "execution_count": 11,
   "id": "331d8a82-72ea-4735-bd4a-d72de0076166",
   "metadata": {},
   "outputs": [
    {
     "name": "stdout",
     "output_type": "stream",
     "text": [
      "shape of dataset: (614, 13) \n",
      "\n",
      "<class 'pandas.core.frame.DataFrame'>\n",
      "RangeIndex: 614 entries, 0 to 613\n",
      "Data columns (total 13 columns):\n",
      " #   Column             Non-Null Count  Dtype  \n",
      "---  ------             --------------  -----  \n",
      " 0   loan_id            614 non-null    object \n",
      " 1   gender             601 non-null    object \n",
      " 2   married            611 non-null    object \n",
      " 3   dependents         599 non-null    float64\n",
      " 4   education          614 non-null    object \n",
      " 5   self_employed      582 non-null    object \n",
      " 6   applicantincome    614 non-null    int64  \n",
      " 7   coapplicantincome  614 non-null    float64\n",
      " 8   loanamount         592 non-null    float64\n",
      " 9   loan_amount_term   600 non-null    float64\n",
      " 10  credit_history     564 non-null    float64\n",
      " 11  property_area      614 non-null    object \n",
      " 12  loan_status        614 non-null    object \n",
      "dtypes: float64(5), int64(1), object(7)\n",
      "memory usage: 62.5+ KB\n",
      "None\n"
     ]
    }
   ],
   "source": [
    "def basic_info(df):\n",
    "    print(\"shape of dataset:\", df.shape, '\\n')\n",
    "    print(df.info())\n",
    "\n",
    "basic_info(df)"
   ]
  },
  {
   "cell_type": "markdown",
   "id": "e4d08948-943b-47fe-b5a2-94b4cb0ef3c1",
   "metadata": {},
   "source": [
    "- There are 614 instances with 13 column.\n",
    "- Some columns values are missing.\n",
    "- There are 7 object type column"
   ]
  },
  {
   "cell_type": "code",
   "execution_count": 13,
   "id": "3d97f666-89ea-46a6-84e9-aeae2eab3f53",
   "metadata": {},
   "outputs": [
    {
     "data": {
      "text/html": [
       "<div>\n",
       "<style scoped>\n",
       "    .dataframe tbody tr th:only-of-type {\n",
       "        vertical-align: middle;\n",
       "    }\n",
       "\n",
       "    .dataframe tbody tr th {\n",
       "        vertical-align: top;\n",
       "    }\n",
       "\n",
       "    .dataframe thead th {\n",
       "        text-align: right;\n",
       "    }\n",
       "</style>\n",
       "<table border=\"1\" class=\"dataframe\">\n",
       "  <thead>\n",
       "    <tr style=\"text-align: right;\">\n",
       "      <th></th>\n",
       "      <th>count</th>\n",
       "      <th>mean</th>\n",
       "      <th>std</th>\n",
       "      <th>min</th>\n",
       "      <th>25%</th>\n",
       "      <th>50%</th>\n",
       "      <th>75%</th>\n",
       "      <th>max</th>\n",
       "    </tr>\n",
       "  </thead>\n",
       "  <tbody>\n",
       "    <tr>\n",
       "      <th>dependents</th>\n",
       "      <td>599.0</td>\n",
       "      <td>0.762938</td>\n",
       "      <td>1.015216</td>\n",
       "      <td>0.0</td>\n",
       "      <td>0.0</td>\n",
       "      <td>0.0</td>\n",
       "      <td>2.00</td>\n",
       "      <td>3.0</td>\n",
       "    </tr>\n",
       "    <tr>\n",
       "      <th>applicantincome</th>\n",
       "      <td>614.0</td>\n",
       "      <td>5403.459283</td>\n",
       "      <td>6109.041673</td>\n",
       "      <td>150.0</td>\n",
       "      <td>2877.5</td>\n",
       "      <td>3812.5</td>\n",
       "      <td>5795.00</td>\n",
       "      <td>81000.0</td>\n",
       "    </tr>\n",
       "    <tr>\n",
       "      <th>coapplicantincome</th>\n",
       "      <td>614.0</td>\n",
       "      <td>1621.245798</td>\n",
       "      <td>2926.248369</td>\n",
       "      <td>0.0</td>\n",
       "      <td>0.0</td>\n",
       "      <td>1188.5</td>\n",
       "      <td>2297.25</td>\n",
       "      <td>41667.0</td>\n",
       "    </tr>\n",
       "    <tr>\n",
       "      <th>loanamount</th>\n",
       "      <td>592.0</td>\n",
       "      <td>146.412162</td>\n",
       "      <td>85.587325</td>\n",
       "      <td>9.0</td>\n",
       "      <td>100.0</td>\n",
       "      <td>128.0</td>\n",
       "      <td>168.00</td>\n",
       "      <td>700.0</td>\n",
       "    </tr>\n",
       "    <tr>\n",
       "      <th>loan_amount_term</th>\n",
       "      <td>600.0</td>\n",
       "      <td>342.000000</td>\n",
       "      <td>65.120410</td>\n",
       "      <td>12.0</td>\n",
       "      <td>360.0</td>\n",
       "      <td>360.0</td>\n",
       "      <td>360.00</td>\n",
       "      <td>480.0</td>\n",
       "    </tr>\n",
       "    <tr>\n",
       "      <th>credit_history</th>\n",
       "      <td>564.0</td>\n",
       "      <td>0.842199</td>\n",
       "      <td>0.364878</td>\n",
       "      <td>0.0</td>\n",
       "      <td>1.0</td>\n",
       "      <td>1.0</td>\n",
       "      <td>1.00</td>\n",
       "      <td>1.0</td>\n",
       "    </tr>\n",
       "  </tbody>\n",
       "</table>\n",
       "</div>"
      ],
      "text/plain": [
       "                   count         mean          std    min     25%     50%  \\\n",
       "dependents         599.0     0.762938     1.015216    0.0     0.0     0.0   \n",
       "applicantincome    614.0  5403.459283  6109.041673  150.0  2877.5  3812.5   \n",
       "coapplicantincome  614.0  1621.245798  2926.248369    0.0     0.0  1188.5   \n",
       "loanamount         592.0   146.412162    85.587325    9.0   100.0   128.0   \n",
       "loan_amount_term   600.0   342.000000    65.120410   12.0   360.0   360.0   \n",
       "credit_history     564.0     0.842199     0.364878    0.0     1.0     1.0   \n",
       "\n",
       "                       75%      max  \n",
       "dependents            2.00      3.0  \n",
       "applicantincome    5795.00  81000.0  \n",
       "coapplicantincome  2297.25  41667.0  \n",
       "loanamount          168.00    700.0  \n",
       "loan_amount_term    360.00    480.0  \n",
       "credit_history        1.00      1.0  "
      ]
     },
     "execution_count": 13,
     "metadata": {},
     "output_type": "execute_result"
    }
   ],
   "source": [
    "df.describe().T"
   ]
  },
  {
   "cell_type": "code",
   "execution_count": 14,
   "id": "8833487d-1f78-4475-b0cd-683966e77eb7",
   "metadata": {},
   "outputs": [
    {
     "data": {
      "text/html": [
       "<div>\n",
       "<style scoped>\n",
       "    .dataframe tbody tr th:only-of-type {\n",
       "        vertical-align: middle;\n",
       "    }\n",
       "\n",
       "    .dataframe tbody tr th {\n",
       "        vertical-align: top;\n",
       "    }\n",
       "\n",
       "    .dataframe thead th {\n",
       "        text-align: right;\n",
       "    }\n",
       "</style>\n",
       "<table border=\"1\" class=\"dataframe\">\n",
       "  <thead>\n",
       "    <tr style=\"text-align: right;\">\n",
       "      <th></th>\n",
       "      <th>loan_id</th>\n",
       "      <th>gender</th>\n",
       "      <th>married</th>\n",
       "      <th>education</th>\n",
       "      <th>self_employed</th>\n",
       "      <th>property_area</th>\n",
       "      <th>loan_status</th>\n",
       "    </tr>\n",
       "  </thead>\n",
       "  <tbody>\n",
       "    <tr>\n",
       "      <th>count</th>\n",
       "      <td>614</td>\n",
       "      <td>601</td>\n",
       "      <td>611</td>\n",
       "      <td>614</td>\n",
       "      <td>582</td>\n",
       "      <td>614</td>\n",
       "      <td>614</td>\n",
       "    </tr>\n",
       "    <tr>\n",
       "      <th>unique</th>\n",
       "      <td>614</td>\n",
       "      <td>2</td>\n",
       "      <td>2</td>\n",
       "      <td>2</td>\n",
       "      <td>2</td>\n",
       "      <td>3</td>\n",
       "      <td>2</td>\n",
       "    </tr>\n",
       "    <tr>\n",
       "      <th>top</th>\n",
       "      <td>lp001002</td>\n",
       "      <td>male</td>\n",
       "      <td>yes</td>\n",
       "      <td>graduate</td>\n",
       "      <td>no</td>\n",
       "      <td>semiurban</td>\n",
       "      <td>y</td>\n",
       "    </tr>\n",
       "    <tr>\n",
       "      <th>freq</th>\n",
       "      <td>1</td>\n",
       "      <td>489</td>\n",
       "      <td>398</td>\n",
       "      <td>480</td>\n",
       "      <td>500</td>\n",
       "      <td>233</td>\n",
       "      <td>422</td>\n",
       "    </tr>\n",
       "  </tbody>\n",
       "</table>\n",
       "</div>"
      ],
      "text/plain": [
       "         loan_id gender married education self_employed property_area  \\\n",
       "count        614    601     611       614           582           614   \n",
       "unique       614      2       2         2             2             3   \n",
       "top     lp001002   male     yes  graduate            no     semiurban   \n",
       "freq           1    489     398       480           500           233   \n",
       "\n",
       "       loan_status  \n",
       "count          614  \n",
       "unique           2  \n",
       "top              y  \n",
       "freq           422  "
      ]
     },
     "execution_count": 14,
     "metadata": {},
     "output_type": "execute_result"
    }
   ],
   "source": [
    "df.describe(include = 'O')"
   ]
  },
  {
   "cell_type": "markdown",
   "id": "89c10f78-0d09-4bd2-9fee-7b00743b5cc4",
   "metadata": {},
   "source": [
    "- Most of the categorical feature binary in narture and 1 is tertiary."
   ]
  },
  {
   "cell_type": "markdown",
   "id": "4364298f-458e-4ad6-a09f-646ddc3432fd",
   "metadata": {},
   "source": [
    "### Check for missing values in the dataset, if present? handle them with appropriate methods and drop redundant features. (2)"
   ]
  },
  {
   "cell_type": "markdown",
   "id": "aa8910f6-d6bf-4634-b1df-cad60d4648d6",
   "metadata": {},
   "source": [
    "- Loan id is redundant for this analysis so i am dropping this."
   ]
  },
  {
   "cell_type": "code",
   "execution_count": 18,
   "id": "4bc74fe5-db7b-410c-a176-aeeeb53c090f",
   "metadata": {},
   "outputs": [],
   "source": [
    "df.drop('loan_id', axis =1 , inplace = True)"
   ]
  },
  {
   "cell_type": "code",
   "execution_count": 19,
   "id": "df8de57c-4811-49ad-9b9e-831ab60eba14",
   "metadata": {},
   "outputs": [
    {
     "data": {
      "text/plain": [
       "gender               13\n",
       "married               3\n",
       "dependents           15\n",
       "education             0\n",
       "self_employed        32\n",
       "applicantincome       0\n",
       "coapplicantincome     0\n",
       "loanamount           22\n",
       "loan_amount_term     14\n",
       "credit_history       50\n",
       "property_area         0\n",
       "loan_status           0\n",
       "dtype: int64"
      ]
     },
     "execution_count": 19,
     "metadata": {},
     "output_type": "execute_result"
    }
   ],
   "source": [
    "df.isnull().sum()"
   ]
  },
  {
   "cell_type": "code",
   "execution_count": 20,
   "id": "60b9f135-f5eb-4a1e-89e9-fad58809548b",
   "metadata": {},
   "outputs": [
    {
     "name": "stdout",
     "output_type": "stream",
     "text": [
      "Percentage of missing values:\n"
     ]
    },
    {
     "data": {
      "text/plain": [
       "gender               2.117264\n",
       "married              0.488599\n",
       "dependents           2.442997\n",
       "education            0.000000\n",
       "self_employed        5.211726\n",
       "applicantincome      0.000000\n",
       "coapplicantincome    0.000000\n",
       "loanamount           3.583062\n",
       "loan_amount_term     2.280130\n",
       "credit_history       8.143322\n",
       "property_area        0.000000\n",
       "loan_status          0.000000\n",
       "dtype: float64"
      ]
     },
     "execution_count": 20,
     "metadata": {},
     "output_type": "execute_result"
    }
   ],
   "source": [
    "print(\"Percentage of missing values:\")\n",
    "df.isnull().sum()/ len(df) *100 "
   ]
  },
  {
   "cell_type": "markdown",
   "id": "615dc521-2b94-4b72-96f1-5f471c311e9e",
   "metadata": {},
   "source": [
    "- There are 7 column with missing values. Out of them 3 are non-numeric values and 4 (1 categorical ) are numeric value.\n",
    "- All non-numeric are categorical variable. One non-numeric is categorical (credit_history) variable. "
   ]
  },
  {
   "cell_type": "code",
   "execution_count": 22,
   "id": "dd0a7873-2a60-4943-9bb7-57aba508e204",
   "metadata": {},
   "outputs": [],
   "source": [
    "nan_cat_feature = ['gender', 'married', 'self_employed', 'credit_history']\n",
    "for col in nan_cat_feature:\n",
    "    df[col].fillna(df[col].mode()[0], inplace = True)"
   ]
  },
  {
   "cell_type": "code",
   "execution_count": 23,
   "id": "67179227-1df6-4e3f-8fd5-8e0f4086cf15",
   "metadata": {},
   "outputs": [],
   "source": [
    "nan_cont_feature = ['dependents', 'loanamount', 'loan_amount_term']\n",
    "for col in nan_cont_feature:\n",
    "    df[col].fillna(df[col].median(), inplace = True)"
   ]
  },
  {
   "cell_type": "code",
   "execution_count": 24,
   "id": "c3711439-a6d3-493d-80f1-3f944b08094d",
   "metadata": {},
   "outputs": [
    {
     "data": {
      "text/plain": [
       "gender               0\n",
       "married              0\n",
       "dependents           0\n",
       "education            0\n",
       "self_employed        0\n",
       "applicantincome      0\n",
       "coapplicantincome    0\n",
       "loanamount           0\n",
       "loan_amount_term     0\n",
       "credit_history       0\n",
       "property_area        0\n",
       "loan_status          0\n",
       "dtype: int64"
      ]
     },
     "execution_count": 24,
     "metadata": {},
     "output_type": "execute_result"
    }
   ],
   "source": [
    "df.isnull().sum()"
   ]
  },
  {
   "cell_type": "markdown",
   "id": "fd302ab2-c080-49bf-b246-f2964e2f290b",
   "metadata": {},
   "source": [
    "### Visualize the distribution of the target column 'loan_status' with respect to various categorical features and write your observations. (2)"
   ]
  },
  {
   "cell_type": "code",
   "execution_count": 26,
   "id": "45099a82-700c-44b4-9d48-c9b7016f7d47",
   "metadata": {},
   "outputs": [
    {
     "data": {
      "text/plain": [
       "loan_status\n",
       "y    422\n",
       "n    192\n",
       "Name: count, dtype: int64"
      ]
     },
     "execution_count": 26,
     "metadata": {},
     "output_type": "execute_result"
    }
   ],
   "source": [
    "df['loan_status'].value_counts()"
   ]
  },
  {
   "cell_type": "code",
   "execution_count": 27,
   "id": "7e8f09e7-e071-4a56-a362-59cec87f1307",
   "metadata": {},
   "outputs": [
    {
     "data": {
      "image/png": "[encoded data removed]",
      "text/plain": [
       "<Figure size 640x480 with 1 Axes>"
      ]
     },
     "metadata": {},
     "output_type": "display_data"
    }
   ],
   "source": [
    "sns.countplot(data = df, x = 'loan_status', hue = 'loan_status')\n",
    "plt.show()"
   ]
  },
  {
   "cell_type": "code",
   "execution_count": 28,
   "id": "0f93b8c9-decb-45d6-9cc8-63d0e85f46ba",
   "metadata": {},
   "outputs": [
    {
     "data": {
      "image/png": "[encoded data removed]",
      "text/plain": [
       "<Figure size 640x480 with 1 Axes>"
      ]
     },
     "metadata": {},
     "output_type": "display_data"
    }
   ],
   "source": [
    "df['loan_status'].value_counts().plot(kind ='pie', autopct = '%1.1f%%')\n",
    "plt.show()"
   ]
  },
  {
   "cell_type": "markdown",
   "id": "df873873-0270-44e8-aec6-e2e990fdbf07",
   "metadata": {},
   "source": [
    "- Target variable is highly imbalanced"
   ]
  },
  {
   "cell_type": "markdown",
   "id": "aa13a8ad-beb0-4c51-a9f3-481e86fbdebc",
   "metadata": {},
   "source": [
    "### Encode the categorical data. (2)"
   ]
  },
  {
   "cell_type": "code",
   "execution_count": 31,
   "id": "2403294f-7ea1-4900-8da6-f6be0eb17dfa",
   "metadata": {},
   "outputs": [],
   "source": [
    "# df = pd.get_dummies(df, drop_first = True, dtype=int)"
   ]
  },
  {
   "cell_type": "code",
   "execution_count": 32,
   "id": "4a47c3f4-3f0d-479a-aef5-606926d2eb48",
   "metadata": {},
   "outputs": [],
   "source": [
    "df_obj = df.select_dtypes('O')"
   ]
  },
  {
   "cell_type": "code",
   "execution_count": 33,
   "id": "82b9a9a2-b015-4919-8bf7-e48d4d801bae",
   "metadata": {},
   "outputs": [
    {
     "name": "stdout",
     "output_type": "stream",
     "text": [
      "gender\n",
      "male      502\n",
      "female    112\n",
      "Name: count, dtype: int64\n",
      "\n",
      "\n",
      "married\n",
      "yes    401\n",
      "no     213\n",
      "Name: count, dtype: int64\n",
      "\n",
      "\n",
      "education\n",
      "graduate        480\n",
      "not graduate    134\n",
      "Name: count, dtype: int64\n",
      "\n",
      "\n",
      "self_employed\n",
      "no     532\n",
      "yes     82\n",
      "Name: count, dtype: int64\n",
      "\n",
      "\n",
      "property_area\n",
      "semiurban    233\n",
      "urban        202\n",
      "rural        179\n",
      "Name: count, dtype: int64\n",
      "\n",
      "\n",
      "loan_status\n",
      "y    422\n",
      "n    192\n",
      "Name: count, dtype: int64\n",
      "\n",
      "\n"
     ]
    }
   ],
   "source": [
    "for col in df_obj:\n",
    "    print(df[col].value_counts())\n",
    "    print('\\n')"
   ]
  },
  {
   "cell_type": "code",
   "execution_count": 34,
   "id": "e9f3aeb2-690e-4c71-9077-24f4f28740c9",
   "metadata": {},
   "outputs": [
    {
     "data": {
      "text/html": [
       "<div>\n",
       "<style scoped>\n",
       "    .dataframe tbody tr th:only-of-type {\n",
       "        vertical-align: middle;\n",
       "    }\n",
       "\n",
       "    .dataframe tbody tr th {\n",
       "        vertical-align: top;\n",
       "    }\n",
       "\n",
       "    .dataframe thead th {\n",
       "        text-align: right;\n",
       "    }\n",
       "</style>\n",
       "<table border=\"1\" class=\"dataframe\">\n",
       "  <thead>\n",
       "    <tr style=\"text-align: right;\">\n",
       "      <th></th>\n",
       "      <th>gender</th>\n",
       "      <th>married</th>\n",
       "      <th>dependents</th>\n",
       "      <th>education</th>\n",
       "      <th>self_employed</th>\n",
       "      <th>applicantincome</th>\n",
       "      <th>coapplicantincome</th>\n",
       "      <th>loanamount</th>\n",
       "      <th>loan_amount_term</th>\n",
       "      <th>credit_history</th>\n",
       "      <th>property_area</th>\n",
       "      <th>loan_status</th>\n",
       "    </tr>\n",
       "  </thead>\n",
       "  <tbody>\n",
       "    <tr>\n",
       "      <th>0</th>\n",
       "      <td>1</td>\n",
       "      <td>0</td>\n",
       "      <td>0.0</td>\n",
       "      <td>0</td>\n",
       "      <td>0</td>\n",
       "      <td>5849</td>\n",
       "      <td>0.0</td>\n",
       "      <td>128.0</td>\n",
       "      <td>360.0</td>\n",
       "      <td>1.0</td>\n",
       "      <td>2</td>\n",
       "      <td>1</td>\n",
       "    </tr>\n",
       "    <tr>\n",
       "      <th>1</th>\n",
       "      <td>1</td>\n",
       "      <td>1</td>\n",
       "      <td>1.0</td>\n",
       "      <td>0</td>\n",
       "      <td>0</td>\n",
       "      <td>4583</td>\n",
       "      <td>1508.0</td>\n",
       "      <td>128.0</td>\n",
       "      <td>360.0</td>\n",
       "      <td>1.0</td>\n",
       "      <td>0</td>\n",
       "      <td>0</td>\n",
       "    </tr>\n",
       "    <tr>\n",
       "      <th>2</th>\n",
       "      <td>1</td>\n",
       "      <td>1</td>\n",
       "      <td>0.0</td>\n",
       "      <td>0</td>\n",
       "      <td>1</td>\n",
       "      <td>3000</td>\n",
       "      <td>0.0</td>\n",
       "      <td>66.0</td>\n",
       "      <td>360.0</td>\n",
       "      <td>1.0</td>\n",
       "      <td>2</td>\n",
       "      <td>1</td>\n",
       "    </tr>\n",
       "    <tr>\n",
       "      <th>3</th>\n",
       "      <td>1</td>\n",
       "      <td>1</td>\n",
       "      <td>0.0</td>\n",
       "      <td>1</td>\n",
       "      <td>0</td>\n",
       "      <td>2583</td>\n",
       "      <td>2358.0</td>\n",
       "      <td>120.0</td>\n",
       "      <td>360.0</td>\n",
       "      <td>1.0</td>\n",
       "      <td>2</td>\n",
       "      <td>1</td>\n",
       "    </tr>\n",
       "    <tr>\n",
       "      <th>4</th>\n",
       "      <td>1</td>\n",
       "      <td>0</td>\n",
       "      <td>0.0</td>\n",
       "      <td>0</td>\n",
       "      <td>0</td>\n",
       "      <td>6000</td>\n",
       "      <td>0.0</td>\n",
       "      <td>141.0</td>\n",
       "      <td>360.0</td>\n",
       "      <td>1.0</td>\n",
       "      <td>2</td>\n",
       "      <td>1</td>\n",
       "    </tr>\n",
       "  </tbody>\n",
       "</table>\n",
       "</div>"
      ],
      "text/plain": [
       "   gender  married  dependents  education  self_employed  applicantincome  \\\n",
       "0       1        0         0.0          0              0             5849   \n",
       "1       1        1         1.0          0              0             4583   \n",
       "2       1        1         0.0          0              1             3000   \n",
       "3       1        1         0.0          1              0             2583   \n",
       "4       1        0         0.0          0              0             6000   \n",
       "\n",
       "   coapplicantincome  loanamount  loan_amount_term  credit_history  \\\n",
       "0                0.0       128.0             360.0             1.0   \n",
       "1             1508.0       128.0             360.0             1.0   \n",
       "2                0.0        66.0             360.0             1.0   \n",
       "3             2358.0       120.0             360.0             1.0   \n",
       "4                0.0       141.0             360.0             1.0   \n",
       "\n",
       "   property_area  loan_status  \n",
       "0              2            1  \n",
       "1              0            0  \n",
       "2              2            1  \n",
       "3              2            1  \n",
       "4              2            1  "
      ]
     },
     "execution_count": 34,
     "metadata": {},
     "output_type": "execute_result"
    }
   ],
   "source": [
    "lbl_ecoder = LabelEncoder()\n",
    "for col in df_obj:\n",
    "    df[col] = lbl_ecoder.fit_transform(df[col]) \n",
    "\n",
    "df.head()"
   ]
  },
  {
   "cell_type": "code",
   "execution_count": 35,
   "id": "52aa1feb-b584-4686-8236-27e814cc48d8",
   "metadata": {},
   "outputs": [
    {
     "name": "stdout",
     "output_type": "stream",
     "text": [
      "gender\n",
      "1    502\n",
      "0    112\n",
      "Name: count, dtype: int64\n",
      "\n",
      "\n",
      "married\n",
      "1    401\n",
      "0    213\n",
      "Name: count, dtype: int64\n",
      "\n",
      "\n",
      "education\n",
      "0    480\n",
      "1    134\n",
      "Name: count, dtype: int64\n",
      "\n",
      "\n",
      "self_employed\n",
      "0    532\n",
      "1     82\n",
      "Name: count, dtype: int64\n",
      "\n",
      "\n",
      "property_area\n",
      "1    233\n",
      "2    202\n",
      "0    179\n",
      "Name: count, dtype: int64\n",
      "\n",
      "\n",
      "loan_status\n",
      "1    422\n",
      "0    192\n",
      "Name: count, dtype: int64\n",
      "\n",
      "\n"
     ]
    }
   ],
   "source": [
    "for col in df_obj:\n",
    "    print(df[col].value_counts())\n",
    "    print('\\n')"
   ]
  },
  {
   "cell_type": "markdown",
   "id": "b5e8cdeb-c03e-498d-997c-654d8b54a8ec",
   "metadata": {},
   "source": [
    "### Separate the target and independent features and split the data into train and test. (2)"
   ]
  },
  {
   "cell_type": "code",
   "execution_count": 37,
   "id": "71d3d52a-75bd-49fc-bddf-012c0ae8cc89",
   "metadata": {},
   "outputs": [],
   "source": [
    "X = df.drop('loan_status', axis = 1)\n",
    "Y = df['loan_status']\n",
    "\n",
    "X_train, X_test, Y_train, Y_test = train_test_split(X, Y, test_size=0.2, random_state= 42)"
   ]
  },
  {
   "cell_type": "code",
   "execution_count": 38,
   "id": "353198f9-0b17-4bb1-8ad4-cc36c59944a4",
   "metadata": {},
   "outputs": [
    {
     "name": "stdout",
     "output_type": "stream",
     "text": [
      "(429, 11) (429,)\n",
      "(185, 11) (185,)\n"
     ]
    }
   ],
   "source": [
    "print(X_train.shape, Y_train.shape)\n",
    "print(X_test.shape, Y_test.shape)"
   ]
  },
  {
   "cell_type": "markdown",
   "id": "e7eff136-1bac-433d-b6ff-3ab12e8c6ab1",
   "metadata": {},
   "source": [
    "### Build any classification model to predict the loan status of the customer and save your model using pickle. (3)"
   ]
  },
  {
   "cell_type": "code",
   "execution_count": 40,
   "id": "eef5e87e-31a8-42c5-877c-f6abb9b1ac7e",
   "metadata": {},
   "outputs": [],
   "source": [
    "KNN = KNeighborsClassifier()\n",
    "DTC = DecisionTreeClassifier()\n",
    "BagC = BaggingClassifier()\n",
    "RFC = RandomForestClassifier()\n",
    "ADB = AdaBoostClassifier()\n",
    "GBC = GradientBoostingClassifier()\n",
    "\n",
    "All_Model = [KNN, DTC, BagC, RFC, ADB, GBC]"
   ]
  },
  {
   "cell_type": "code",
   "execution_count": 41,
   "id": "98a2b208-ed48-4c24-8a37-812007ad875d",
   "metadata": {},
   "outputs": [],
   "source": [
    "def model_eval(All_Model, X_train, X_test, Y_train, Y_test):\n",
    "    for model in All_Model:\n",
    "        print(f\"Model Score {model} :-\" , model.fit(X_train, Y_train).score(X_test, Y_test))"
   ]
  },
  {
   "cell_type": "code",
   "execution_count": 42,
   "id": "9d698f0d-0c23-44f4-bc01-7909ecc4ad5e",
   "metadata": {},
   "outputs": [
    {
     "name": "stdout",
     "output_type": "stream",
     "text": [
      "Model Score KNeighborsClassifier() :- 0.5621621621621622\n",
      "Model Score DecisionTreeClassifier() :- 0.6324324324324324\n",
      "Model Score BaggingClassifier() :- 0.7243243243243244\n",
      "Model Score RandomForestClassifier() :- 0.7621621621621621\n",
      "Model Score AdaBoostClassifier() :- 0.745945945945946\n",
      "Model Score GradientBoostingClassifier() :- 0.7513513513513513\n"
     ]
    }
   ],
   "source": [
    "model_eval(All_Model, X_train, X_test, Y_train, Y_test)"
   ]
  },
  {
   "cell_type": "markdown",
   "id": "b8e23654-7109-45fb-bb2f-38f9beb0abb6",
   "metadata": {},
   "source": [
    "- From above model score we say that Random Forest Classifier is best suited model for this dataset"
   ]
  },
  {
   "cell_type": "code",
   "execution_count": 44,
   "id": "a9cabc7e-88fa-40ff-bdc2-dacf89da461d",
   "metadata": {},
   "outputs": [],
   "source": [
    "model = RandomForestClassifier().fit(X_train, Y_train)"
   ]
  },
  {
   "cell_type": "code",
   "execution_count": 45,
   "id": "c1114066-64cd-4a60-98ea-551ea392ac56",
   "metadata": {},
   "outputs": [
    {
     "data": {
      "text/plain": [
       "0.772972972972973"
      ]
     },
     "execution_count": 45,
     "metadata": {},
     "output_type": "execute_result"
    }
   ],
   "source": [
    "model.score(X_test, Y_test)"
   ]
  },
  {
   "cell_type": "code",
   "execution_count": 46,
   "id": "a8e29986-e1f6-4e91-a391-6e7ab7fe996f",
   "metadata": {},
   "outputs": [
    {
     "data": {
      "text/plain": [
       "1.0"
      ]
     },
     "execution_count": 46,
     "metadata": {},
     "output_type": "execute_result"
    }
   ],
   "source": [
    "model.score(X_train, Y_train)"
   ]
  },
  {
   "cell_type": "code",
   "execution_count": 47,
   "id": "4af2cd72-cdd1-4f89-a8e1-7e6886bb1cac",
   "metadata": {},
   "outputs": [
    {
     "data": {
      "text/plain": [
       "0.772972972972973"
      ]
     },
     "execution_count": 47,
     "metadata": {},
     "output_type": "execute_result"
    }
   ],
   "source": [
    "test_pred = model.predict(X_test)\n",
    "model.score(X_test , Y_test)"
   ]
  },
  {
   "cell_type": "code",
   "execution_count": 48,
   "id": "6d853683-4f62-409f-809f-25be6263c16d",
   "metadata": {},
   "outputs": [
    {
     "name": "stdout",
     "output_type": "stream",
     "text": [
      "[[ 31  34]\n",
      " [  8 112]]\n"
     ]
    },
    {
     "data": {
      "image/png": "[encoded data removed]",
      "text/plain": [
       "<Figure size 640x480 with 1 Axes>"
      ]
     },
     "metadata": {},
     "output_type": "display_data"
    }
   ],
   "source": [
    "from sklearn.metrics import confusion_matrix\n",
    "cm = confusion_matrix(Y_test, test_pred)\n",
    "print(cm)\n",
    "\n",
    "sns.heatmap(cm, annot =True, fmt ='d', cmap='Blues', cbar = False, square = True, xticklabels=['0', '1'])\n",
    "plt.show()"
   ]
  },
  {
   "cell_type": "code",
   "execution_count": 49,
   "id": "c78ac8fb-de6e-45e4-a00c-4fdd4af5558f",
   "metadata": {},
   "outputs": [
    {
     "name": "stdout",
     "output_type": "stream",
     "text": [
      "              precision    recall  f1-score   support\n",
      "\n",
      "           0       0.79      0.48      0.60        65\n",
      "           1       0.77      0.93      0.84       120\n",
      "\n",
      "    accuracy                           0.77       185\n",
      "   macro avg       0.78      0.71      0.72       185\n",
      "weighted avg       0.78      0.77      0.76       185\n",
      "\n"
     ]
    }
   ],
   "source": [
    "from sklearn.metrics import classification_report\n",
    "print(classification_report(Y_test,test_pred))"
   ]
  },
  {
   "cell_type": "markdown",
   "id": "a4cd573f-da5e-4007-9a84-982d8ad335df",
   "metadata": {},
   "source": [
    "## Python Flask Application development (35 points)"
   ]
  },
  {
   "cell_type": "markdown",
   "id": "933349d1-d5bc-44bf-aa84-14b58cd3be81",
   "metadata": {},
   "source": [
    "- Creating a project and virtual environment using pycharm or visual studio code and installing the required packages (5 points)"
   ]
  },
  {
   "cell_type": "markdown",
   "id": "c60d99c9-39f8-4edd-a864-551ece29f464",
   "metadata": {},
   "source": [
    "#### app.py (30 points)\n",
    "- This is our main application file that is designed to call some of the implemented APIs and methods, such as connecting to the MYSQL database and creating a table for the database, and APIs such as user to register, login, enter_details, predict, and logout.\n",
    "    - Connect to the MYSQL database and create the class for the table.\n",
    "        ● User(id, username, password) (can create the table in the database using mysql workbench also)\n",
    "    - Register: This is a register API. This should take username and password and store the details in the user database.\n",
    "    - Login: This API should take the username and password of registered users and successfully log them in.\n",
    "    - Enter Details: This API should render the ‘predict.html’ page, where the user has to enter their details to check the loan eligibility.\n",
    "    - Predict: This API should render the prediction results on the HTML template.\n",
    "    - Logout: This API should logout the user"
   ]
  },
  {
   "cell_type": "markdown",
   "id": "21cb17c4-084d-4e1e-bd44-946310f2ecd6",
   "metadata": {},
   "source": [
    "### Submissions:\n",
    "- Please submit the ‘Model building and saving the model using pickle’ part solution in .html or .ipynb format.\n",
    "- Python Flask web application project, Kindly zip the project folder and submit your solution.\n",
    "- Prepare a document and add the screenshots of the home page, register page, data stored in MYSQL, login page, and the prediction page with the predicted results.\n",
    "- Upload all the required files in the GitHub repository and share the github link."
   ]
  }
 ],
 "metadata": {
  "kernelspec": {
   "display_name": "Python 3 (ipykernel)",
   "language": "python",
   "name": "python3"
  },
  "language_info": {
   "codemirror_mode": {
    "name": "ipython",
    "version": 3
   },
   "file_extension": ".py",
   "mimetype": "text/x-python",
   "name": "python",
   "nbconvert_exporter": "python",
   "pygments_lexer": "ipython3",
   "version": "3.12.4"
  }
 },
 "nbformat": 4,
 "nbformat_minor": 5
}
